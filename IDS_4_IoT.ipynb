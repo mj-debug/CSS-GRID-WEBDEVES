{
  "nbformat": 4,
  "nbformat_minor": 0,
  "metadata": {
    "colab": {
      "provenance": [],
      "gpuType": "V100",
      "mount_file_id": "1KfvG5q58O68jstCv75Sib4HwZpqCfWbZ",
      "authorship_tag": "ABX9TyOShw0l3m1v8nssH7VvDPTX",
      "include_colab_link": true
    },
    "kernelspec": {
      "name": "python3",
      "display_name": "Python 3"
    },
    "language_info": {
      "name": "python"
    },
    "accelerator": "GPU"
  },
  "cells": [
    {
      "cell_type": "markdown",
      "metadata": {
        "id": "view-in-github",
        "colab_type": "text"
      },
      "source": [
        "<a href=\"https://colab.research.google.com/github/mj-debug/CSS-GRID-WEBDEVES/blob/master/IDS_4_IoT.ipynb\" target=\"_parent\"><img src=\"https://colab.research.google.com/assets/colab-badge.svg\" alt=\"Open In Colab\"/></a>"
      ]
    },
    {
      "cell_type": "markdown",
      "source": [
        "# Importing libraries"
      ],
      "metadata": {
        "id": "ITWr5WWzs2sW"
      }
    },
    {
      "cell_type": "code",
      "source": [
        "# importing required libraries\n",
        "import numpy as np\n",
        "import pandas as pd"
      ],
      "metadata": {
        "id": "hQXCr7aIs36A"
      },
      "execution_count": 1,
      "outputs": []
    },
    {
      "cell_type": "code",
      "source": [
        "# importing library for plotting\n",
        "import matplotlib.pyplot as plt"
      ],
      "metadata": {
        "id": "CTP8ha0Hs6rC"
      },
      "execution_count": 2,
      "outputs": []
    },
    {
      "cell_type": "code",
      "source": [
        "import pickle   # saving and loading trained model\n",
        "from os import path"
      ],
      "metadata": {
        "id": "CAI-jwnIs82T"
      },
      "execution_count": 3,
      "outputs": []
    },
    {
      "cell_type": "code",
      "source": [
        "# importing required libraries for normalizing data\n",
        "import sklearn\n",
        "from sklearn import neighbors\n",
        "from sklearn import preprocessing\n",
        "from sklearn.preprocessing import StandardScaler\n",
        "from imblearn.over_sampling import RandomOverSampler"
      ],
      "metadata": {
        "id": "6ziCrm7YtBV2"
      },
      "execution_count": 4,
      "outputs": []
    },
    {
      "cell_type": "code",
      "source": [
        "# importing libary for classification report\n",
        "from sklearn.metrics import classification_report"
      ],
      "metadata": {
        "id": "-Qsl1QNntE0T"
      },
      "execution_count": 5,
      "outputs": []
    },
    {
      "cell_type": "markdown",
      "source": [
        "# Importing dataset"
      ],
      "metadata": {
        "id": "wFqIPE8htILH"
      }
    },
    {
      "cell_type": "code",
      "source": [
        "df = pd.read_csv(\"/content/drive/MyDrive/BoTNeTIoT-L01-v2.csv\") # 0 is an attack sample, 1 is a normal sample\n",
        "df.head() # To display for rows of data entry"
      ],
      "metadata": {
        "colab": {
          "base_uri": "https://localhost:8080/",
          "height": 299
        },
        "id": "PKl1kmeRtIt3",
        "outputId": "4d32abd7-1079-408f-bb8c-b0019361eca5"
      },
      "execution_count": 6,
      "outputs": [
        {
          "output_type": "execute_result",
          "data": {
            "text/plain": [
              "   MI_dir_L0.1_weight  MI_dir_L0.1_mean  MI_dir_L0.1_variance  H_L0.1_weight  \\\n",
              "0            1.000000         98.000000          0.000000e+00       1.000000   \n",
              "1            1.931640         98.000000          1.818989e-12       1.931640   \n",
              "2            2.904273         86.981750          2.311822e+02       2.904273   \n",
              "3            3.902546         83.655268          2.040614e+02       3.902546   \n",
              "4            4.902545         81.685828          1.775746e+02       4.902545   \n",
              "\n",
              "   H_L0.1_mean  H_L0.1_variance  HH_L0.1_weight  HH_L0.1_mean   HH_L0.1_std  \\\n",
              "0    98.000000     0.000000e+00         1.00000          98.0  0.000000e+00   \n",
              "1    98.000000     1.818989e-12         1.93164          98.0  1.348699e-06   \n",
              "2    86.981750     2.311822e+02         1.00000          66.0  0.000000e+00   \n",
              "3    83.655268     2.040614e+02         1.00000          74.0  0.000000e+00   \n",
              "4    81.685828     1.775746e+02         2.00000          74.0  9.536743e-07   \n",
              "\n",
              "   HH_L0.1_magnitude  ...  HpHp_L0.1_mean  HpHp_L0.1_std  HpHp_L0.1_magnitude  \\\n",
              "0          98.000000  ...            98.0       0.000000            98.000000   \n",
              "1         138.592929  ...            98.0       0.000001           138.592929   \n",
              "2         114.856432  ...            66.0       0.000000           114.856432   \n",
              "3          74.000000  ...            74.0       0.000000            74.000000   \n",
              "4          74.000000  ...            74.0       0.000000            74.000000   \n",
              "\n",
              "   HpHp_L0.1_radius  HpHp_L0.1_covariance  HpHp_L0.1_pcc       Device_Name  \\\n",
              "0      0.000000e+00                   0.0            0.0  Danmini_Doorbell   \n",
              "1      1.818989e-12                   0.0            0.0  Danmini_Doorbell   \n",
              "2      0.000000e+00                   0.0            0.0  Danmini_Doorbell   \n",
              "3      0.000000e+00                   0.0            0.0  Danmini_Doorbell   \n",
              "4      0.000000e+00                   0.0            0.0  Danmini_Doorbell   \n",
              "\n",
              "   Attack  Attack_subType  label  \n",
              "0  gafgyt           combo      0  \n",
              "1  gafgyt           combo      0  \n",
              "2  gafgyt           combo      0  \n",
              "3  gafgyt           combo      0  \n",
              "4  gafgyt           combo      0  \n",
              "\n",
              "[5 rows x 27 columns]"
            ],
            "text/html": [
              "\n",
              "  <div id=\"df-b9f18638-332c-4c73-827f-7f39d2783076\">\n",
              "    <div class=\"colab-df-container\">\n",
              "      <div>\n",
              "<style scoped>\n",
              "    .dataframe tbody tr th:only-of-type {\n",
              "        vertical-align: middle;\n",
              "    }\n",
              "\n",
              "    .dataframe tbody tr th {\n",
              "        vertical-align: top;\n",
              "    }\n",
              "\n",
              "    .dataframe thead th {\n",
              "        text-align: right;\n",
              "    }\n",
              "</style>\n",
              "<table border=\"1\" class=\"dataframe\">\n",
              "  <thead>\n",
              "    <tr style=\"text-align: right;\">\n",
              "      <th></th>\n",
              "      <th>MI_dir_L0.1_weight</th>\n",
              "      <th>MI_dir_L0.1_mean</th>\n",
              "      <th>MI_dir_L0.1_variance</th>\n",
              "      <th>H_L0.1_weight</th>\n",
              "      <th>H_L0.1_mean</th>\n",
              "      <th>H_L0.1_variance</th>\n",
              "      <th>HH_L0.1_weight</th>\n",
              "      <th>HH_L0.1_mean</th>\n",
              "      <th>HH_L0.1_std</th>\n",
              "      <th>HH_L0.1_magnitude</th>\n",
              "      <th>...</th>\n",
              "      <th>HpHp_L0.1_mean</th>\n",
              "      <th>HpHp_L0.1_std</th>\n",
              "      <th>HpHp_L0.1_magnitude</th>\n",
              "      <th>HpHp_L0.1_radius</th>\n",
              "      <th>HpHp_L0.1_covariance</th>\n",
              "      <th>HpHp_L0.1_pcc</th>\n",
              "      <th>Device_Name</th>\n",
              "      <th>Attack</th>\n",
              "      <th>Attack_subType</th>\n",
              "      <th>label</th>\n",
              "    </tr>\n",
              "  </thead>\n",
              "  <tbody>\n",
              "    <tr>\n",
              "      <th>0</th>\n",
              "      <td>1.000000</td>\n",
              "      <td>98.000000</td>\n",
              "      <td>0.000000e+00</td>\n",
              "      <td>1.000000</td>\n",
              "      <td>98.000000</td>\n",
              "      <td>0.000000e+00</td>\n",
              "      <td>1.00000</td>\n",
              "      <td>98.0</td>\n",
              "      <td>0.000000e+00</td>\n",
              "      <td>98.000000</td>\n",
              "      <td>...</td>\n",
              "      <td>98.0</td>\n",
              "      <td>0.000000</td>\n",
              "      <td>98.000000</td>\n",
              "      <td>0.000000e+00</td>\n",
              "      <td>0.0</td>\n",
              "      <td>0.0</td>\n",
              "      <td>Danmini_Doorbell</td>\n",
              "      <td>gafgyt</td>\n",
              "      <td>combo</td>\n",
              "      <td>0</td>\n",
              "    </tr>\n",
              "    <tr>\n",
              "      <th>1</th>\n",
              "      <td>1.931640</td>\n",
              "      <td>98.000000</td>\n",
              "      <td>1.818989e-12</td>\n",
              "      <td>1.931640</td>\n",
              "      <td>98.000000</td>\n",
              "      <td>1.818989e-12</td>\n",
              "      <td>1.93164</td>\n",
              "      <td>98.0</td>\n",
              "      <td>1.348699e-06</td>\n",
              "      <td>138.592929</td>\n",
              "      <td>...</td>\n",
              "      <td>98.0</td>\n",
              "      <td>0.000001</td>\n",
              "      <td>138.592929</td>\n",
              "      <td>1.818989e-12</td>\n",
              "      <td>0.0</td>\n",
              "      <td>0.0</td>\n",
              "      <td>Danmini_Doorbell</td>\n",
              "      <td>gafgyt</td>\n",
              "      <td>combo</td>\n",
              "      <td>0</td>\n",
              "    </tr>\n",
              "    <tr>\n",
              "      <th>2</th>\n",
              "      <td>2.904273</td>\n",
              "      <td>86.981750</td>\n",
              "      <td>2.311822e+02</td>\n",
              "      <td>2.904273</td>\n",
              "      <td>86.981750</td>\n",
              "      <td>2.311822e+02</td>\n",
              "      <td>1.00000</td>\n",
              "      <td>66.0</td>\n",
              "      <td>0.000000e+00</td>\n",
              "      <td>114.856432</td>\n",
              "      <td>...</td>\n",
              "      <td>66.0</td>\n",
              "      <td>0.000000</td>\n",
              "      <td>114.856432</td>\n",
              "      <td>0.000000e+00</td>\n",
              "      <td>0.0</td>\n",
              "      <td>0.0</td>\n",
              "      <td>Danmini_Doorbell</td>\n",
              "      <td>gafgyt</td>\n",
              "      <td>combo</td>\n",
              "      <td>0</td>\n",
              "    </tr>\n",
              "    <tr>\n",
              "      <th>3</th>\n",
              "      <td>3.902546</td>\n",
              "      <td>83.655268</td>\n",
              "      <td>2.040614e+02</td>\n",
              "      <td>3.902546</td>\n",
              "      <td>83.655268</td>\n",
              "      <td>2.040614e+02</td>\n",
              "      <td>1.00000</td>\n",
              "      <td>74.0</td>\n",
              "      <td>0.000000e+00</td>\n",
              "      <td>74.000000</td>\n",
              "      <td>...</td>\n",
              "      <td>74.0</td>\n",
              "      <td>0.000000</td>\n",
              "      <td>74.000000</td>\n",
              "      <td>0.000000e+00</td>\n",
              "      <td>0.0</td>\n",
              "      <td>0.0</td>\n",
              "      <td>Danmini_Doorbell</td>\n",
              "      <td>gafgyt</td>\n",
              "      <td>combo</td>\n",
              "      <td>0</td>\n",
              "    </tr>\n",
              "    <tr>\n",
              "      <th>4</th>\n",
              "      <td>4.902545</td>\n",
              "      <td>81.685828</td>\n",
              "      <td>1.775746e+02</td>\n",
              "      <td>4.902545</td>\n",
              "      <td>81.685828</td>\n",
              "      <td>1.775746e+02</td>\n",
              "      <td>2.00000</td>\n",
              "      <td>74.0</td>\n",
              "      <td>9.536743e-07</td>\n",
              "      <td>74.000000</td>\n",
              "      <td>...</td>\n",
              "      <td>74.0</td>\n",
              "      <td>0.000000</td>\n",
              "      <td>74.000000</td>\n",
              "      <td>0.000000e+00</td>\n",
              "      <td>0.0</td>\n",
              "      <td>0.0</td>\n",
              "      <td>Danmini_Doorbell</td>\n",
              "      <td>gafgyt</td>\n",
              "      <td>combo</td>\n",
              "      <td>0</td>\n",
              "    </tr>\n",
              "  </tbody>\n",
              "</table>\n",
              "<p>5 rows × 27 columns</p>\n",
              "</div>\n",
              "      <button class=\"colab-df-convert\" onclick=\"convertToInteractive('df-b9f18638-332c-4c73-827f-7f39d2783076')\"\n",
              "              title=\"Convert this dataframe to an interactive table.\"\n",
              "              style=\"display:none;\">\n",
              "        \n",
              "  <svg xmlns=\"http://www.w3.org/2000/svg\" height=\"24px\"viewBox=\"0 0 24 24\"\n",
              "       width=\"24px\">\n",
              "    <path d=\"M0 0h24v24H0V0z\" fill=\"none\"/>\n",
              "    <path d=\"M18.56 5.44l.94 2.06.94-2.06 2.06-.94-2.06-.94-.94-2.06-.94 2.06-2.06.94zm-11 1L8.5 8.5l.94-2.06 2.06-.94-2.06-.94L8.5 2.5l-.94 2.06-2.06.94zm10 10l.94 2.06.94-2.06 2.06-.94-2.06-.94-.94-2.06-.94 2.06-2.06.94z\"/><path d=\"M17.41 7.96l-1.37-1.37c-.4-.4-.92-.59-1.43-.59-.52 0-1.04.2-1.43.59L10.3 9.45l-7.72 7.72c-.78.78-.78 2.05 0 2.83L4 21.41c.39.39.9.59 1.41.59.51 0 1.02-.2 1.41-.59l7.78-7.78 2.81-2.81c.8-.78.8-2.07 0-2.86zM5.41 20L4 18.59l7.72-7.72 1.47 1.35L5.41 20z\"/>\n",
              "  </svg>\n",
              "      </button>\n",
              "      \n",
              "  <style>\n",
              "    .colab-df-container {\n",
              "      display:flex;\n",
              "      flex-wrap:wrap;\n",
              "      gap: 12px;\n",
              "    }\n",
              "\n",
              "    .colab-df-convert {\n",
              "      background-color: #E8F0FE;\n",
              "      border: none;\n",
              "      border-radius: 50%;\n",
              "      cursor: pointer;\n",
              "      display: none;\n",
              "      fill: #1967D2;\n",
              "      height: 32px;\n",
              "      padding: 0 0 0 0;\n",
              "      width: 32px;\n",
              "    }\n",
              "\n",
              "    .colab-df-convert:hover {\n",
              "      background-color: #E2EBFA;\n",
              "      box-shadow: 0px 1px 2px rgba(60, 64, 67, 0.3), 0px 1px 3px 1px rgba(60, 64, 67, 0.15);\n",
              "      fill: #174EA6;\n",
              "    }\n",
              "\n",
              "    [theme=dark] .colab-df-convert {\n",
              "      background-color: #3B4455;\n",
              "      fill: #D2E3FC;\n",
              "    }\n",
              "\n",
              "    [theme=dark] .colab-df-convert:hover {\n",
              "      background-color: #434B5C;\n",
              "      box-shadow: 0px 1px 3px 1px rgba(0, 0, 0, 0.15);\n",
              "      filter: drop-shadow(0px 1px 2px rgba(0, 0, 0, 0.3));\n",
              "      fill: #FFFFFF;\n",
              "    }\n",
              "  </style>\n",
              "\n",
              "      <script>\n",
              "        const buttonEl =\n",
              "          document.querySelector('#df-b9f18638-332c-4c73-827f-7f39d2783076 button.colab-df-convert');\n",
              "        buttonEl.style.display =\n",
              "          google.colab.kernel.accessAllowed ? 'block' : 'none';\n",
              "\n",
              "        async function convertToInteractive(key) {\n",
              "          const element = document.querySelector('#df-b9f18638-332c-4c73-827f-7f39d2783076');\n",
              "          const dataTable =\n",
              "            await google.colab.kernel.invokeFunction('convertToInteractive',\n",
              "                                                     [key], {});\n",
              "          if (!dataTable) return;\n",
              "\n",
              "          const docLinkHtml = 'Like what you see? Visit the ' +\n",
              "            '<a target=\"_blank\" href=https://colab.research.google.com/notebooks/data_table.ipynb>data table notebook</a>'\n",
              "            + ' to learn more about interactive tables.';\n",
              "          element.innerHTML = '';\n",
              "          dataTable['output_type'] = 'display_data';\n",
              "          await google.colab.output.renderOutput(dataTable, element);\n",
              "          const docLink = document.createElement('div');\n",
              "          docLink.innerHTML = docLinkHtml;\n",
              "          element.appendChild(docLink);\n",
              "        }\n",
              "      </script>\n",
              "    </div>\n",
              "  </div>\n",
              "  "
            ]
          },
          "metadata": {},
          "execution_count": 6
        }
      ]
    },
    {
      "cell_type": "code",
      "source": [
        "# total number of data samples\n",
        "print(len(df))"
      ],
      "metadata": {
        "colab": {
          "base_uri": "https://localhost:8080/"
        },
        "id": "tpSAm2BFtM14",
        "outputId": "b1cec49c-05a3-4cd5-d0ba-8897242ecc32"
      },
      "execution_count": 7,
      "outputs": [
        {
          "output_type": "stream",
          "name": "stdout",
          "text": [
            "7062606\n"
          ]
        }
      ]
    },
    {
      "cell_type": "markdown",
      "source": [
        "# Binary Classification"
      ],
      "metadata": {
        "id": "NCIQs8j-tP_i"
      }
    },
    {
      "cell_type": "code",
      "source": [
        "df[\"label\"].unique() # 0 means attack sample, 1 means normal sample"
      ],
      "metadata": {
        "colab": {
          "base_uri": "https://localhost:8080/"
        },
        "id": "uLD-tJnWtQg3",
        "outputId": "b45d4105-7be0-49ac-d060-3b4b046deac3"
      },
      "execution_count": 8,
      "outputs": [
        {
          "output_type": "execute_result",
          "data": {
            "text/plain": [
              "array([0, 1])"
            ]
          },
          "metadata": {},
          "execution_count": 8
        }
      ]
    },
    {
      "cell_type": "code",
      "source": [
        "sum(df[\"label\"] == 1)   # normal sample"
      ],
      "metadata": {
        "colab": {
          "base_uri": "https://localhost:8080/"
        },
        "id": "XUNRlWhotT3V",
        "outputId": "d44994cc-2f92-4f5b-8b2b-1c5446e90b57"
      },
      "execution_count": 9,
      "outputs": [
        {
          "output_type": "execute_result",
          "data": {
            "text/plain": [
              "555932"
            ]
          },
          "metadata": {},
          "execution_count": 9
        }
      ]
    },
    {
      "cell_type": "code",
      "source": [
        "sum(df[\"label\"] == 0)   # abnormal sample"
      ],
      "metadata": {
        "colab": {
          "base_uri": "https://localhost:8080/"
        },
        "id": "Ednuvo2ztZBu",
        "outputId": "88abd538-1aeb-44eb-9876-ab0cb493bcc3"
      },
      "execution_count": 10,
      "outputs": [
        {
          "output_type": "execute_result",
          "data": {
            "text/plain": [
              "6506674"
            ]
          },
          "metadata": {},
          "execution_count": 10
        }
      ]
    },
    {
      "cell_type": "code",
      "source": [
        "# Pie chart distribution of normal and abnormal labels\n",
        "# Create the pie chart\n",
        "\n",
        "labels = df[\"label\"].unique()\n",
        "labels = [\"abnormal\", \"normal\"]\n",
        "plt.pie(df[\"label\"].value_counts(), labels = labels, colors = [\"#80c861\", \"#21501b\"], autopct='%0.2f%%')\n",
        "\n",
        "plt.title(\"Pie chart distribution of normal and abnormal labels\")\n",
        "\n",
        "plt.legend()\n",
        "# Set aspect ratio to be equal so that pie is drawn as a circle\n",
        "plt.axis('equal')\n",
        "\n",
        "# Display the chart\n",
        "plt.show()"
      ],
      "metadata": {
        "colab": {
          "base_uri": "https://localhost:8080/",
          "height": 428
        },
        "id": "tUtNCSeDtcMI",
        "outputId": "52cae6d6-053c-42ed-e605-12b313910581"
      },
      "execution_count": 11,
      "outputs": [
        {
          "output_type": "display_data",
          "data": {
            "text/plain": [
              "<Figure size 640x480 with 1 Axes>"
            ],
            "image/png": "[encoded data removed]"
          },
          "metadata": {}
        }
      ]
    },
    {
      "cell_type": "markdown",
      "source": [
        "# Multiclass Classification"
      ],
      "metadata": {
        "id": "wQvt55zutfkt"
      }
    },
    {
      "cell_type": "code",
      "source": [
        "df[\"Device_Name\"].unique()"
      ],
      "metadata": {
        "colab": {
          "base_uri": "https://localhost:8080/"
        },
        "id": "Nxexm4astgJ3",
        "outputId": "e7c7e8d6-7de6-45f1-fb0f-a125283b26e8"
      },
      "execution_count": 12,
      "outputs": [
        {
          "output_type": "execute_result",
          "data": {
            "text/plain": [
              "array(['Danmini_Doorbell', 'Ecobee_Thermostat', 'Ennio_Doorbell',\n",
              "       'Philips_B120N10_Baby_Monitor',\n",
              "       'Provision_PT_737E_Security_Camera',\n",
              "       'Provision_PT_838_Security_Camera', 'Samsung_SNH_1011_N_Webcam',\n",
              "       'SimpleHome_XCS7_1002_WHT_Security_Camera',\n",
              "       'SimpleHome_XCS7_1003_WHT_Security_Camera'], dtype=object)"
            ]
          },
          "metadata": {},
          "execution_count": 12
        }
      ]
    },
    {
      "cell_type": "code",
      "source": [
        "df[\"Attack\"].unique() # We're using 1 for normal, 2 for mirai and 3 for gafgyt"
      ],
      "metadata": {
        "colab": {
          "base_uri": "https://localhost:8080/"
        },
        "id": "_xI8qNEYtkHB",
        "outputId": "20402e51-5e61-4049-ee33-effe9b77326e"
      },
      "execution_count": 13,
      "outputs": [
        {
          "output_type": "execute_result",
          "data": {
            "text/plain": [
              "array(['gafgyt', 'mirai', 'Normal'], dtype=object)"
            ]
          },
          "metadata": {},
          "execution_count": 13
        }
      ]
    },
    {
      "cell_type": "code",
      "source": [
        "df[\"Attack_subType\"].unique() # 0 means attack sample, 1 means normal sample"
      ],
      "metadata": {
        "colab": {
          "base_uri": "https://localhost:8080/"
        },
        "id": "tfOMRSLKtmci",
        "outputId": "ec3b8933-da9c-4fdf-faa9-377e751acf95"
      },
      "execution_count": 14,
      "outputs": [
        {
          "output_type": "execute_result",
          "data": {
            "text/plain": [
              "array(['combo', 'junk', 'scan', 'tcp', 'udp', 'ack', 'syn', 'udpplain',\n",
              "       'Normal'], dtype=object)"
            ]
          },
          "metadata": {},
          "execution_count": 14
        }
      ]
    },
    {
      "cell_type": "code",
      "source": [
        "# Pie chart distribution of normal and attack labels\n",
        "# Create the pie chart\n",
        "plt.pie(df[\"Attack\"].value_counts(), labels = df[\"Attack\"].unique(), colors = [\"#b4eeb4\",\"#80c861\", \"#21501b\"], autopct='%0.2f%%')\n",
        "\n",
        "plt.title(\"Pie chart distribution of normal and abnormal labels\")\n",
        "\n",
        "plt.legend()\n",
        "# Set aspect ratio to be equal so that pie is drawn as a circle\n",
        "plt.axis(\"equal\")\n",
        "\n",
        "# Display the chart\n",
        "plt.show()"
      ],
      "metadata": {
        "colab": {
          "base_uri": "https://localhost:8080/",
          "height": 432
        },
        "id": "-pRWFMXPto-8",
        "outputId": "d597e3a3-fd9f-4170-e55e-574394755b12"
      },
      "execution_count": 15,
      "outputs": [
        {
          "output_type": "display_data",
          "data": {
            "text/plain": [
              "<Figure size 640x480 with 1 Axes>"
            ],
            "image/png": "[encoded data removed]"
          },
          "metadata": {}
        }
      ]
    },
    {
      "cell_type": "code",
      "source": [
        "# Create a dictionary to map categories to numbers\n",
        "category_mapping = {\n",
        "    'Normal': 1,\n",
        "    'mirai': 2,\n",
        "    'gafgyt': 3\n",
        "    }\n",
        "\n",
        "# Apply the mapping to create a new column with numerical representation\n",
        "df[\"Attack\"] = df[\"Attack\"].map(category_mapping)"
      ],
      "metadata": {
        "id": "126wCltttrxd"
      },
      "execution_count": 16,
      "outputs": []
    },
    {
      "cell_type": "code",
      "source": [
        "df.head()"
      ],
      "metadata": {
        "colab": {
          "base_uri": "https://localhost:8080/",
          "height": 299
        },
        "id": "Xo9lz1gNtsgc",
        "outputId": "4fc967a3-e477-4923-9d8c-32cce40e7982"
      },
      "execution_count": 17,
      "outputs": [
        {
          "output_type": "execute_result",
          "data": {
            "text/plain": [
              "   MI_dir_L0.1_weight  MI_dir_L0.1_mean  MI_dir_L0.1_variance  H_L0.1_weight  \\\n",
              "0            1.000000         98.000000          0.000000e+00       1.000000   \n",
              "1            1.931640         98.000000          1.818989e-12       1.931640   \n",
              "2            2.904273         86.981750          2.311822e+02       2.904273   \n",
              "3            3.902546         83.655268          2.040614e+02       3.902546   \n",
              "4            4.902545         81.685828          1.775746e+02       4.902545   \n",
              "\n",
              "   H_L0.1_mean  H_L0.1_variance  HH_L0.1_weight  HH_L0.1_mean   HH_L0.1_std  \\\n",
              "0    98.000000     0.000000e+00         1.00000          98.0  0.000000e+00   \n",
              "1    98.000000     1.818989e-12         1.93164          98.0  1.348699e-06   \n",
              "2    86.981750     2.311822e+02         1.00000          66.0  0.000000e+00   \n",
              "3    83.655268     2.040614e+02         1.00000          74.0  0.000000e+00   \n",
              "4    81.685828     1.775746e+02         2.00000          74.0  9.536743e-07   \n",
              "\n",
              "   HH_L0.1_magnitude  ...  HpHp_L0.1_mean  HpHp_L0.1_std  HpHp_L0.1_magnitude  \\\n",
              "0          98.000000  ...            98.0       0.000000            98.000000   \n",
              "1         138.592929  ...            98.0       0.000001           138.592929   \n",
              "2         114.856432  ...            66.0       0.000000           114.856432   \n",
              "3          74.000000  ...            74.0       0.000000            74.000000   \n",
              "4          74.000000  ...            74.0       0.000000            74.000000   \n",
              "\n",
              "   HpHp_L0.1_radius  HpHp_L0.1_covariance  HpHp_L0.1_pcc       Device_Name  \\\n",
              "0      0.000000e+00                   0.0            0.0  Danmini_Doorbell   \n",
              "1      1.818989e-12                   0.0            0.0  Danmini_Doorbell   \n",
              "2      0.000000e+00                   0.0            0.0  Danmini_Doorbell   \n",
              "3      0.000000e+00                   0.0            0.0  Danmini_Doorbell   \n",
              "4      0.000000e+00                   0.0            0.0  Danmini_Doorbell   \n",
              "\n",
              "   Attack  Attack_subType  label  \n",
              "0       3           combo      0  \n",
              "1       3           combo      0  \n",
              "2       3           combo      0  \n",
              "3       3           combo      0  \n",
              "4       3           combo      0  \n",
              "\n",
              "[5 rows x 27 columns]"
            ],
            "text/html": [
              "\n",
              "  <div id=\"df-bd19d3d8-1292-40dc-84ac-b20aa0389802\">\n",
              "    <div class=\"colab-df-container\">\n",
              "      <div>\n",
              "<style scoped>\n",
              "    .dataframe tbody tr th:only-of-type {\n",
              "        vertical-align: middle;\n",
              "    }\n",
              "\n",
              "    .dataframe tbody tr th {\n",
              "        vertical-align: top;\n",
              "    }\n",
              "\n",
              "    .dataframe thead th {\n",
              "        text-align: right;\n",
              "    }\n",
              "</style>\n",
              "<table border=\"1\" class=\"dataframe\">\n",
              "  <thead>\n",
              "    <tr style=\"text-align: right;\">\n",
              "      <th></th>\n",
              "      <th>MI_dir_L0.1_weight</th>\n",
              "      <th>MI_dir_L0.1_mean</th>\n",
              "      <th>MI_dir_L0.1_variance</th>\n",
              "      <th>H_L0.1_weight</th>\n",
              "      <th>H_L0.1_mean</th>\n",
              "      <th>H_L0.1_variance</th>\n",
              "      <th>HH_L0.1_weight</th>\n",
              "      <th>HH_L0.1_mean</th>\n",
              "      <th>HH_L0.1_std</th>\n",
              "      <th>HH_L0.1_magnitude</th>\n",
              "      <th>...</th>\n",
              "      <th>HpHp_L0.1_mean</th>\n",
              "      <th>HpHp_L0.1_std</th>\n",
              "      <th>HpHp_L0.1_magnitude</th>\n",
              "      <th>HpHp_L0.1_radius</th>\n",
              "      <th>HpHp_L0.1_covariance</th>\n",
              "      <th>HpHp_L0.1_pcc</th>\n",
              "      <th>Device_Name</th>\n",
              "      <th>Attack</th>\n",
              "      <th>Attack_subType</th>\n",
              "      <th>label</th>\n",
              "    </tr>\n",
              "  </thead>\n",
              "  <tbody>\n",
              "    <tr>\n",
              "      <th>0</th>\n",
              "      <td>1.000000</td>\n",
              "      <td>98.000000</td>\n",
              "      <td>0.000000e+00</td>\n",
              "      <td>1.000000</td>\n",
              "      <td>98.000000</td>\n",
              "      <td>0.000000e+00</td>\n",
              "      <td>1.00000</td>\n",
              "      <td>98.0</td>\n",
              "      <td>0.000000e+00</td>\n",
              "      <td>98.000000</td>\n",
              "      <td>...</td>\n",
              "      <td>98.0</td>\n",
              "      <td>0.000000</td>\n",
              "      <td>98.000000</td>\n",
              "      <td>0.000000e+00</td>\n",
              "      <td>0.0</td>\n",
              "      <td>0.0</td>\n",
              "      <td>Danmini_Doorbell</td>\n",
              "      <td>3</td>\n",
              "      <td>combo</td>\n",
              "      <td>0</td>\n",
              "    </tr>\n",
              "    <tr>\n",
              "      <th>1</th>\n",
              "      <td>1.931640</td>\n",
              "      <td>98.000000</td>\n",
              "      <td>1.818989e-12</td>\n",
              "      <td>1.931640</td>\n",
              "      <td>98.000000</td>\n",
              "      <td>1.818989e-12</td>\n",
              "      <td>1.93164</td>\n",
              "      <td>98.0</td>\n",
              "      <td>1.348699e-06</td>\n",
              "      <td>138.592929</td>\n",
              "      <td>...</td>\n",
              "      <td>98.0</td>\n",
              "      <td>0.000001</td>\n",
              "      <td>138.592929</td>\n",
              "      <td>1.818989e-12</td>\n",
              "      <td>0.0</td>\n",
              "      <td>0.0</td>\n",
              "      <td>Danmini_Doorbell</td>\n",
              "      <td>3</td>\n",
              "      <td>combo</td>\n",
              "      <td>0</td>\n",
              "    </tr>\n",
              "    <tr>\n",
              "      <th>2</th>\n",
              "      <td>2.904273</td>\n",
              "      <td>86.981750</td>\n",
              "      <td>2.311822e+02</td>\n",
              "      <td>2.904273</td>\n",
              "      <td>86.981750</td>\n",
              "      <td>2.311822e+02</td>\n",
              "      <td>1.00000</td>\n",
              "      <td>66.0</td>\n",
              "      <td>0.000000e+00</td>\n",
              "      <td>114.856432</td>\n",
              "      <td>...</td>\n",
              "      <td>66.0</td>\n",
              "      <td>0.000000</td>\n",
              "      <td>114.856432</td>\n",
              "      <td>0.000000e+00</td>\n",
              "      <td>0.0</td>\n",
              "      <td>0.0</td>\n",
              "      <td>Danmini_Doorbell</td>\n",
              "      <td>3</td>\n",
              "      <td>combo</td>\n",
              "      <td>0</td>\n",
              "    </tr>\n",
              "    <tr>\n",
              "      <th>3</th>\n",
              "      <td>3.902546</td>\n",
              "      <td>83.655268</td>\n",
              "      <td>2.040614e+02</td>\n",
              "      <td>3.902546</td>\n",
              "      <td>83.655268</td>\n",
              "      <td>2.040614e+02</td>\n",
              "      <td>1.00000</td>\n",
              "      <td>74.0</td>\n",
              "      <td>0.000000e+00</td>\n",
              "      <td>74.000000</td>\n",
              "      <td>...</td>\n",
              "      <td>74.0</td>\n",
              "      <td>0.000000</td>\n",
              "      <td>74.000000</td>\n",
              "      <td>0.000000e+00</td>\n",
              "      <td>0.0</td>\n",
              "      <td>0.0</td>\n",
              "      <td>Danmini_Doorbell</td>\n",
              "      <td>3</td>\n",
              "      <td>combo</td>\n",
              "      <td>0</td>\n",
              "    </tr>\n",
              "    <tr>\n",
              "      <th>4</th>\n",
              "      <td>4.902545</td>\n",
              "      <td>81.685828</td>\n",
              "      <td>1.775746e+02</td>\n",
              "      <td>4.902545</td>\n",
              "      <td>81.685828</td>\n",
              "      <td>1.775746e+02</td>\n",
              "      <td>2.00000</td>\n",
              "      <td>74.0</td>\n",
              "      <td>9.536743e-07</td>\n",
              "      <td>74.000000</td>\n",
              "      <td>...</td>\n",
              "      <td>74.0</td>\n",
              "      <td>0.000000</td>\n",
              "      <td>74.000000</td>\n",
              "      <td>0.000000e+00</td>\n",
              "      <td>0.0</td>\n",
              "      <td>0.0</td>\n",
              "      <td>Danmini_Doorbell</td>\n",
              "      <td>3</td>\n",
              "      <td>combo</td>\n",
              "      <td>0</td>\n",
              "    </tr>\n",
              "  </tbody>\n",
              "</table>\n",
              "<p>5 rows × 27 columns</p>\n",
              "</div>\n",
              "      <button class=\"colab-df-convert\" onclick=\"convertToInteractive('df-bd19d3d8-1292-40dc-84ac-b20aa0389802')\"\n",
              "              title=\"Convert this dataframe to an interactive table.\"\n",
              "              style=\"display:none;\">\n",
              "        \n",
              "  <svg xmlns=\"http://www.w3.org/2000/svg\" height=\"24px\"viewBox=\"0 0 24 24\"\n",
              "       width=\"24px\">\n",
              "    <path d=\"M0 0h24v24H0V0z\" fill=\"none\"/>\n",
              "    <path d=\"M18.56 5.44l.94 2.06.94-2.06 2.06-.94-2.06-.94-.94-2.06-.94 2.06-2.06.94zm-11 1L8.5 8.5l.94-2.06 2.06-.94-2.06-.94L8.5 2.5l-.94 2.06-2.06.94zm10 10l.94 2.06.94-2.06 2.06-.94-2.06-.94-.94-2.06-.94 2.06-2.06.94z\"/><path d=\"M17.41 7.96l-1.37-1.37c-.4-.4-.92-.59-1.43-.59-.52 0-1.04.2-1.43.59L10.3 9.45l-7.72 7.72c-.78.78-.78 2.05 0 2.83L4 21.41c.39.39.9.59 1.41.59.51 0 1.02-.2 1.41-.59l7.78-7.78 2.81-2.81c.8-.78.8-2.07 0-2.86zM5.41 20L4 18.59l7.72-7.72 1.47 1.35L5.41 20z\"/>\n",
              "  </svg>\n",
              "      </button>\n",
              "      \n",
              "  <style>\n",
              "    .colab-df-container {\n",
              "      display:flex;\n",
              "      flex-wrap:wrap;\n",
              "      gap: 12px;\n",
              "    }\n",
              "\n",
              "    .colab-df-convert {\n",
              "      background-color: #E8F0FE;\n",
              "      border: none;\n",
              "      border-radius: 50%;\n",
              "      cursor: pointer;\n",
              "      display: none;\n",
              "      fill: #1967D2;\n",
              "      height: 32px;\n",
              "      padding: 0 0 0 0;\n",
              "      width: 32px;\n",
              "    }\n",
              "\n",
              "    .colab-df-convert:hover {\n",
              "      background-color: #E2EBFA;\n",
              "      box-shadow: 0px 1px 2px rgba(60, 64, 67, 0.3), 0px 1px 3px 1px rgba(60, 64, 67, 0.15);\n",
              "      fill: #174EA6;\n",
              "    }\n",
              "\n",
              "    [theme=dark] .colab-df-convert {\n",
              "      background-color: #3B4455;\n",
              "      fill: #D2E3FC;\n",
              "    }\n",
              "\n",
              "    [theme=dark] .colab-df-convert:hover {\n",
              "      background-color: #434B5C;\n",
              "      box-shadow: 0px 1px 3px 1px rgba(0, 0, 0, 0.15);\n",
              "      filter: drop-shadow(0px 1px 2px rgba(0, 0, 0, 0.3));\n",
              "      fill: #FFFFFF;\n",
              "    }\n",
              "  </style>\n",
              "\n",
              "      <script>\n",
              "        const buttonEl =\n",
              "          document.querySelector('#df-bd19d3d8-1292-40dc-84ac-b20aa0389802 button.colab-df-convert');\n",
              "        buttonEl.style.display =\n",
              "          google.colab.kernel.accessAllowed ? 'block' : 'none';\n",
              "\n",
              "        async function convertToInteractive(key) {\n",
              "          const element = document.querySelector('#df-bd19d3d8-1292-40dc-84ac-b20aa0389802');\n",
              "          const dataTable =\n",
              "            await google.colab.kernel.invokeFunction('convertToInteractive',\n",
              "                                                     [key], {});\n",
              "          if (!dataTable) return;\n",
              "\n",
              "          const docLinkHtml = 'Like what you see? Visit the ' +\n",
              "            '<a target=\"_blank\" href=https://colab.research.google.com/notebooks/data_table.ipynb>data table notebook</a>'\n",
              "            + ' to learn more about interactive tables.';\n",
              "          element.innerHTML = '';\n",
              "          dataTable['output_type'] = 'display_data';\n",
              "          await google.colab.output.renderOutput(dataTable, element);\n",
              "          const docLink = document.createElement('div');\n",
              "          docLink.innerHTML = docLinkHtml;\n",
              "          element.appendChild(docLink);\n",
              "        }\n",
              "      </script>\n",
              "    </div>\n",
              "  </div>\n",
              "  "
            ]
          },
          "metadata": {},
          "execution_count": 17
        }
      ]
    },
    {
      "cell_type": "markdown",
      "source": [
        "# One hot encoding"
      ],
      "metadata": {
        "id": "8IsFF9Z2txYG"
      }
    },
    {
      "cell_type": "code",
      "source": [
        "# Perform one-hot encoding\n",
        "df = pd.get_dummies(df, columns=[\"Device_Name\", \"Attack_subType\"])"
      ],
      "metadata": {
        "id": "2AHmUmXntx7P"
      },
      "execution_count": 18,
      "outputs": []
    },
    {
      "cell_type": "code",
      "source": [
        "df.head()"
      ],
      "metadata": {
        "colab": {
          "base_uri": "https://localhost:8080/",
          "height": 299
        },
        "id": "YybCfnM4t1bQ",
        "outputId": "aa3c983a-c7ba-4437-95bb-a2762584a1c4"
      },
      "execution_count": 19,
      "outputs": [
        {
          "output_type": "execute_result",
          "data": {
            "text/plain": [
              "   MI_dir_L0.1_weight  MI_dir_L0.1_mean  MI_dir_L0.1_variance  H_L0.1_weight  \\\n",
              "0            1.000000         98.000000          0.000000e+00       1.000000   \n",
              "1            1.931640         98.000000          1.818989e-12       1.931640   \n",
              "2            2.904273         86.981750          2.311822e+02       2.904273   \n",
              "3            3.902546         83.655268          2.040614e+02       3.902546   \n",
              "4            4.902545         81.685828          1.775746e+02       4.902545   \n",
              "\n",
              "   H_L0.1_mean  H_L0.1_variance  HH_L0.1_weight  HH_L0.1_mean   HH_L0.1_std  \\\n",
              "0    98.000000     0.000000e+00         1.00000          98.0  0.000000e+00   \n",
              "1    98.000000     1.818989e-12         1.93164          98.0  1.348699e-06   \n",
              "2    86.981750     2.311822e+02         1.00000          66.0  0.000000e+00   \n",
              "3    83.655268     2.040614e+02         1.00000          74.0  0.000000e+00   \n",
              "4    81.685828     1.775746e+02         2.00000          74.0  9.536743e-07   \n",
              "\n",
              "   HH_L0.1_magnitude  ...  \\\n",
              "0          98.000000  ...   \n",
              "1         138.592929  ...   \n",
              "2         114.856432  ...   \n",
              "3          74.000000  ...   \n",
              "4          74.000000  ...   \n",
              "\n",
              "   Device_Name_SimpleHome_XCS7_1003_WHT_Security_Camera  \\\n",
              "0                                                  0      \n",
              "1                                                  0      \n",
              "2                                                  0      \n",
              "3                                                  0      \n",
              "4                                                  0      \n",
              "\n",
              "   Attack_subType_Normal  Attack_subType_ack  Attack_subType_combo  \\\n",
              "0                      0                   0                     1   \n",
              "1                      0                   0                     1   \n",
              "2                      0                   0                     1   \n",
              "3                      0                   0                     1   \n",
              "4                      0                   0                     1   \n",
              "\n",
              "   Attack_subType_junk  Attack_subType_scan  Attack_subType_syn  \\\n",
              "0                    0                    0                   0   \n",
              "1                    0                    0                   0   \n",
              "2                    0                    0                   0   \n",
              "3                    0                    0                   0   \n",
              "4                    0                    0                   0   \n",
              "\n",
              "   Attack_subType_tcp  Attack_subType_udp  Attack_subType_udpplain  \n",
              "0                   0                   0                        0  \n",
              "1                   0                   0                        0  \n",
              "2                   0                   0                        0  \n",
              "3                   0                   0                        0  \n",
              "4                   0                   0                        0  \n",
              "\n",
              "[5 rows x 43 columns]"
            ],
            "text/html": [
              "\n",
              "  <div id=\"df-2821e166-d9fb-4748-bf2a-6c9a65307383\">\n",
              "    <div class=\"colab-df-container\">\n",
              "      <div>\n",
              "<style scoped>\n",
              "    .dataframe tbody tr th:only-of-type {\n",
              "        vertical-align: middle;\n",
              "    }\n",
              "\n",
              "    .dataframe tbody tr th {\n",
              "        vertical-align: top;\n",
              "    }\n",
              "\n",
              "    .dataframe thead th {\n",
              "        text-align: right;\n",
              "    }\n",
              "</style>\n",
              "<table border=\"1\" class=\"dataframe\">\n",
              "  <thead>\n",
              "    <tr style=\"text-align: right;\">\n",
              "      <th></th>\n",
              "      <th>MI_dir_L0.1_weight</th>\n",
              "      <th>MI_dir_L0.1_mean</th>\n",
              "      <th>MI_dir_L0.1_variance</th>\n",
              "      <th>H_L0.1_weight</th>\n",
              "      <th>H_L0.1_mean</th>\n",
              "      <th>H_L0.1_variance</th>\n",
              "      <th>HH_L0.1_weight</th>\n",
              "      <th>HH_L0.1_mean</th>\n",
              "      <th>HH_L0.1_std</th>\n",
              "      <th>HH_L0.1_magnitude</th>\n",
              "      <th>...</th>\n",
              "      <th>Device_Name_SimpleHome_XCS7_1003_WHT_Security_Camera</th>\n",
              "      <th>Attack_subType_Normal</th>\n",
              "      <th>Attack_subType_ack</th>\n",
              "      <th>Attack_subType_combo</th>\n",
              "      <th>Attack_subType_junk</th>\n",
              "      <th>Attack_subType_scan</th>\n",
              "      <th>Attack_subType_syn</th>\n",
              "      <th>Attack_subType_tcp</th>\n",
              "      <th>Attack_subType_udp</th>\n",
              "      <th>Attack_subType_udpplain</th>\n",
              "    </tr>\n",
              "  </thead>\n",
              "  <tbody>\n",
              "    <tr>\n",
              "      <th>0</th>\n",
              "      <td>1.000000</td>\n",
              "      <td>98.000000</td>\n",
              "      <td>0.000000e+00</td>\n",
              "      <td>1.000000</td>\n",
              "      <td>98.000000</td>\n",
              "      <td>0.000000e+00</td>\n",
              "      <td>1.00000</td>\n",
              "      <td>98.0</td>\n",
              "      <td>0.000000e+00</td>\n",
              "      <td>98.000000</td>\n",
              "      <td>...</td>\n",
              "      <td>0</td>\n",
              "      <td>0</td>\n",
              "      <td>0</td>\n",
              "      <td>1</td>\n",
              "      <td>0</td>\n",
              "      <td>0</td>\n",
              "      <td>0</td>\n",
              "      <td>0</td>\n",
              "      <td>0</td>\n",
              "      <td>0</td>\n",
              "    </tr>\n",
              "    <tr>\n",
              "      <th>1</th>\n",
              "      <td>1.931640</td>\n",
              "      <td>98.000000</td>\n",
              "      <td>1.818989e-12</td>\n",
              "      <td>1.931640</td>\n",
              "      <td>98.000000</td>\n",
              "      <td>1.818989e-12</td>\n",
              "      <td>1.93164</td>\n",
              "      <td>98.0</td>\n",
              "      <td>1.348699e-06</td>\n",
              "      <td>138.592929</td>\n",
              "      <td>...</td>\n",
              "      <td>0</td>\n",
              "      <td>0</td>\n",
              "      <td>0</td>\n",
              "      <td>1</td>\n",
              "      <td>0</td>\n",
              "      <td>0</td>\n",
              "      <td>0</td>\n",
              "      <td>0</td>\n",
              "      <td>0</td>\n",
              "      <td>0</td>\n",
              "    </tr>\n",
              "    <tr>\n",
              "      <th>2</th>\n",
              "      <td>2.904273</td>\n",
              "      <td>86.981750</td>\n",
              "      <td>2.311822e+02</td>\n",
              "      <td>2.904273</td>\n",
              "      <td>86.981750</td>\n",
              "      <td>2.311822e+02</td>\n",
              "      <td>1.00000</td>\n",
              "      <td>66.0</td>\n",
              "      <td>0.000000e+00</td>\n",
              "      <td>114.856432</td>\n",
              "      <td>...</td>\n",
              "      <td>0</td>\n",
              "      <td>0</td>\n",
              "      <td>0</td>\n",
              "      <td>1</td>\n",
              "      <td>0</td>\n",
              "      <td>0</td>\n",
              "      <td>0</td>\n",
              "      <td>0</td>\n",
              "      <td>0</td>\n",
              "      <td>0</td>\n",
              "    </tr>\n",
              "    <tr>\n",
              "      <th>3</th>\n",
              "      <td>3.902546</td>\n",
              "      <td>83.655268</td>\n",
              "      <td>2.040614e+02</td>\n",
              "      <td>3.902546</td>\n",
              "      <td>83.655268</td>\n",
              "      <td>2.040614e+02</td>\n",
              "      <td>1.00000</td>\n",
              "      <td>74.0</td>\n",
              "      <td>0.000000e+00</td>\n",
              "      <td>74.000000</td>\n",
              "      <td>...</td>\n",
              "      <td>0</td>\n",
              "      <td>0</td>\n",
              "      <td>0</td>\n",
              "      <td>1</td>\n",
              "      <td>0</td>\n",
              "      <td>0</td>\n",
              "      <td>0</td>\n",
              "      <td>0</td>\n",
              "      <td>0</td>\n",
              "      <td>0</td>\n",
              "    </tr>\n",
              "    <tr>\n",
              "      <th>4</th>\n",
              "      <td>4.902545</td>\n",
              "      <td>81.685828</td>\n",
              "      <td>1.775746e+02</td>\n",
              "      <td>4.902545</td>\n",
              "      <td>81.685828</td>\n",
              "      <td>1.775746e+02</td>\n",
              "      <td>2.00000</td>\n",
              "      <td>74.0</td>\n",
              "      <td>9.536743e-07</td>\n",
              "      <td>74.000000</td>\n",
              "      <td>...</td>\n",
              "      <td>0</td>\n",
              "      <td>0</td>\n",
              "      <td>0</td>\n",
              "      <td>1</td>\n",
              "      <td>0</td>\n",
              "      <td>0</td>\n",
              "      <td>0</td>\n",
              "      <td>0</td>\n",
              "      <td>0</td>\n",
              "      <td>0</td>\n",
              "    </tr>\n",
              "  </tbody>\n",
              "</table>\n",
              "<p>5 rows × 43 columns</p>\n",
              "</div>\n",
              "      <button class=\"colab-df-convert\" onclick=\"convertToInteractive('df-2821e166-d9fb-4748-bf2a-6c9a65307383')\"\n",
              "              title=\"Convert this dataframe to an interactive table.\"\n",
              "              style=\"display:none;\">\n",
              "        \n",
              "  <svg xmlns=\"http://www.w3.org/2000/svg\" height=\"24px\"viewBox=\"0 0 24 24\"\n",
              "       width=\"24px\">\n",
              "    <path d=\"M0 0h24v24H0V0z\" fill=\"none\"/>\n",
              "    <path d=\"M18.56 5.44l.94 2.06.94-2.06 2.06-.94-2.06-.94-.94-2.06-.94 2.06-2.06.94zm-11 1L8.5 8.5l.94-2.06 2.06-.94-2.06-.94L8.5 2.5l-.94 2.06-2.06.94zm10 10l.94 2.06.94-2.06 2.06-.94-2.06-.94-.94-2.06-.94 2.06-2.06.94z\"/><path d=\"M17.41 7.96l-1.37-1.37c-.4-.4-.92-.59-1.43-.59-.52 0-1.04.2-1.43.59L10.3 9.45l-7.72 7.72c-.78.78-.78 2.05 0 2.83L4 21.41c.39.39.9.59 1.41.59.51 0 1.02-.2 1.41-.59l7.78-7.78 2.81-2.81c.8-.78.8-2.07 0-2.86zM5.41 20L4 18.59l7.72-7.72 1.47 1.35L5.41 20z\"/>\n",
              "  </svg>\n",
              "      </button>\n",
              "      \n",
              "  <style>\n",
              "    .colab-df-container {\n",
              "      display:flex;\n",
              "      flex-wrap:wrap;\n",
              "      gap: 12px;\n",
              "    }\n",
              "\n",
              "    .colab-df-convert {\n",
              "      background-color: #E8F0FE;\n",
              "      border: none;\n",
              "      border-radius: 50%;\n",
              "      cursor: pointer;\n",
              "      display: none;\n",
              "      fill: #1967D2;\n",
              "      height: 32px;\n",
              "      padding: 0 0 0 0;\n",
              "      width: 32px;\n",
              "    }\n",
              "\n",
              "    .colab-df-convert:hover {\n",
              "      background-color: #E2EBFA;\n",
              "      box-shadow: 0px 1px 2px rgba(60, 64, 67, 0.3), 0px 1px 3px 1px rgba(60, 64, 67, 0.15);\n",
              "      fill: #174EA6;\n",
              "    }\n",
              "\n",
              "    [theme=dark] .colab-df-convert {\n",
              "      background-color: #3B4455;\n",
              "      fill: #D2E3FC;\n",
              "    }\n",
              "\n",
              "    [theme=dark] .colab-df-convert:hover {\n",
              "      background-color: #434B5C;\n",
              "      box-shadow: 0px 1px 3px 1px rgba(0, 0, 0, 0.15);\n",
              "      filter: drop-shadow(0px 1px 2px rgba(0, 0, 0, 0.3));\n",
              "      fill: #FFFFFF;\n",
              "    }\n",
              "  </style>\n",
              "\n",
              "      <script>\n",
              "        const buttonEl =\n",
              "          document.querySelector('#df-2821e166-d9fb-4748-bf2a-6c9a65307383 button.colab-df-convert');\n",
              "        buttonEl.style.display =\n",
              "          google.colab.kernel.accessAllowed ? 'block' : 'none';\n",
              "\n",
              "        async function convertToInteractive(key) {\n",
              "          const element = document.querySelector('#df-2821e166-d9fb-4748-bf2a-6c9a65307383');\n",
              "          const dataTable =\n",
              "            await google.colab.kernel.invokeFunction('convertToInteractive',\n",
              "                                                     [key], {});\n",
              "          if (!dataTable) return;\n",
              "\n",
              "          const docLinkHtml = 'Like what you see? Visit the ' +\n",
              "            '<a target=\"_blank\" href=https://colab.research.google.com/notebooks/data_table.ipynb>data table notebook</a>'\n",
              "            + ' to learn more about interactive tables.';\n",
              "          element.innerHTML = '';\n",
              "          dataTable['output_type'] = 'display_data';\n",
              "          await google.colab.output.renderOutput(dataTable, element);\n",
              "          const docLink = document.createElement('div');\n",
              "          docLink.innerHTML = docLinkHtml;\n",
              "          element.appendChild(docLink);\n",
              "        }\n",
              "      </script>\n",
              "    </div>\n",
              "  </div>\n",
              "  "
            ]
          },
          "metadata": {},
          "execution_count": 19
        }
      ]
    },
    {
      "cell_type": "markdown",
      "source": [
        "# Modelling and Training"
      ],
      "metadata": {
        "id": "pjJ78OoMt4qu"
      }
    },
    {
      "cell_type": "code",
      "source": [
        "# splitting our dataset into 70% train & 30% test dataset.\n",
        "train, test = np.split(df.sample(frac = 1), [int(0.7 * len(df))])"
      ],
      "metadata": {
        "id": "yXwAXkvTt5Ni"
      },
      "execution_count": 20,
      "outputs": []
    },
    {
      "cell_type": "markdown",
      "source": [
        "# Sampling our data"
      ],
      "metadata": {
        "id": "_CA-6Jt8t9-2"
      }
    },
    {
      "cell_type": "code",
      "source": [
        "def scale_dataset(dataframe, oversample = False):\n",
        "    x = dataframe[dataframe.columns[:-1]].values   # feature matrix (x plane)\n",
        "    y = dataframe[dataframe.columns[-1]].values    # target vector (y plane)\n",
        "\n",
        "    scaler = StandardScaler()\n",
        "    X = scaler.fit_transform(x)\n",
        "\n",
        "    if oversample:\n",
        "        ros = RandomOverSampler()\n",
        "        X, y = ros.fit_resample(X, y)\n",
        "    data = np.hstack((X, np.reshape(y, (-1, 1))))\n",
        "\n",
        "    return data, X, y"
      ],
      "metadata": {
        "id": "gxapZSEet7Nu"
      },
      "execution_count": 21,
      "outputs": []
    },
    {
      "cell_type": "code",
      "source": [
        "# checking the number of normal & abnormal sample in the training dataset\n",
        "print(len(train[train[\"label\"] == 1]))  # normal sample\n",
        "print(len(train[train[\"label\"] == 0]))  # abnormal sample"
      ],
      "metadata": {
        "colab": {
          "base_uri": "https://localhost:8080/"
        },
        "id": "OkrvIyEUuC4B",
        "outputId": "7b8c1a8c-8338-431e-87e4-8d3f42acd0ed"
      },
      "execution_count": 22,
      "outputs": [
        {
          "output_type": "stream",
          "name": "stdout",
          "text": [
            "389671\n",
            "4554153\n"
          ]
        }
      ]
    },
    {
      "cell_type": "code",
      "source": [
        "# checking the number of normal and abnormal samples in the test dataset\n",
        "print(len(test[test[\"label\"] == 1]))  # normal sample\n",
        "print(len(test[test[\"label\"] == 0]))  # abnormal sample"
      ],
      "metadata": {
        "colab": {
          "base_uri": "https://localhost:8080/"
        },
        "id": "zASOat2IuFOH",
        "outputId": "abb1d4e1-e56c-496e-bb00-fdc315f27faa"
      },
      "execution_count": 23,
      "outputs": [
        {
          "output_type": "stream",
          "name": "stdout",
          "text": [
            "166261\n",
            "1952521\n"
          ]
        }
      ]
    },
    {
      "cell_type": "markdown",
      "source": [
        "# Normalizing our train dataset"
      ],
      "metadata": {
        "id": "-vBiSsB-uH9z"
      }
    },
    {
      "cell_type": "code",
      "source": [
        "train, x_train, y_train = scale_dataset(train, oversample = True)\n",
        "test, x_test, y_test = scale_dataset(test, oversample = False)"
      ],
      "metadata": {
        "id": "19Ywx3auuJR8"
      },
      "execution_count": null,
      "outputs": []
    },
    {
      "cell_type": "markdown",
      "source": [
        "# Decision Tree"
      ],
      "metadata": {
        "id": "WhkAmwA7uOnz"
      }
    },
    {
      "cell_type": "code",
      "source": [
        "from sklearn.tree import DecisionTreeClassifier"
      ],
      "metadata": {
        "id": "8hIt0WESuPK2"
      },
      "execution_count": null,
      "outputs": []
    },
    {
      "cell_type": "code",
      "source": [
        "dt_model = DecisionTreeClassifier()\n",
        "dt_model = dt_model.fit(x_train,y_train)"
      ],
      "metadata": {
        "id": "MeYUsxZzuRy2"
      },
      "execution_count": null,
      "outputs": []
    },
    {
      "cell_type": "code",
      "source": [
        "y_pred = dt_model.predict(x_test)"
      ],
      "metadata": {
        "id": "FxcdPe_ouT-d"
      },
      "execution_count": null,
      "outputs": []
    },
    {
      "cell_type": "code",
      "source": [
        "print(classification_report(y_test, y_pred))"
      ],
      "metadata": {
        "id": "6pgei9k2uXZe"
      },
      "execution_count": null,
      "outputs": []
    },
    {
      "cell_type": "markdown",
      "source": [
        "# Logistic Regression"
      ],
      "metadata": {
        "id": "mXkofa9pubpA"
      }
    },
    {
      "cell_type": "code",
      "source": [
        "from sklearn.linear_model import LogisticRegression"
      ],
      "metadata": {
        "id": "B4lwNVzXucWX"
      },
      "execution_count": null,
      "outputs": []
    },
    {
      "cell_type": "code",
      "source": [
        "lg_model = LogisticRegression()\n",
        "lg_model = lg_model.fit(x_train,y_train)"
      ],
      "metadata": {
        "id": "21pqPO4kufsW"
      },
      "execution_count": null,
      "outputs": []
    },
    {
      "cell_type": "code",
      "source": [
        "y_pred = lg_model.predict(x_test)"
      ],
      "metadata": {
        "id": "SUUyXj5DuhjU"
      },
      "execution_count": null,
      "outputs": []
    },
    {
      "cell_type": "code",
      "source": [
        "print(classification_report(y_test, y_pred))"
      ],
      "metadata": {
        "id": "oFsBYQKiujan"
      },
      "execution_count": null,
      "outputs": []
    },
    {
      "cell_type": "markdown",
      "source": [
        "# Naive Bayes"
      ],
      "metadata": {
        "id": "4uqWbxnuukgW"
      }
    },
    {
      "cell_type": "code",
      "source": [
        "from sklearn.naive_bayes import GaussianNB"
      ],
      "metadata": {
        "id": "ocPWjsXHuoKZ"
      },
      "execution_count": null,
      "outputs": []
    },
    {
      "cell_type": "code",
      "source": [
        "nb_model = GaussianNB()\n",
        "nb_model = nb_model.fit(x_train, y_train)"
      ],
      "metadata": {
        "id": "sP7yoWiwurUy"
      },
      "execution_count": null,
      "outputs": []
    },
    {
      "cell_type": "code",
      "source": [
        "y_pred = nb_model.predict(x_test)"
      ],
      "metadata": {
        "id": "wnvy6_MRutOr"
      },
      "execution_count": null,
      "outputs": []
    },
    {
      "cell_type": "code",
      "source": [
        "print(classification_report(y_test, y_pred))"
      ],
      "metadata": {
        "id": "xh4kcVA6uw26"
      },
      "execution_count": null,
      "outputs": []
    },
    {
      "cell_type": "markdown",
      "source": [
        "# Neural Network"
      ],
      "metadata": {
        "id": "4a4Rcf1Iu0XJ"
      }
    },
    {
      "cell_type": "code",
      "source": [
        "from sklearn.neural_network import MLPClassifier"
      ],
      "metadata": {
        "id": "iUwbCQPvu03D"
      },
      "execution_count": null,
      "outputs": []
    },
    {
      "cell_type": "code",
      "source": [
        "nn_model = MLPClassifier()\n",
        "nn_model = nn_model.fit(x_train, y_train)"
      ],
      "metadata": {
        "id": "89f1Mpn7u3tb"
      },
      "execution_count": null,
      "outputs": []
    },
    {
      "cell_type": "code",
      "source": [
        "y_pred = nn_model.predict(x_test)"
      ],
      "metadata": {
        "id": "bStq44E_vHdE"
      },
      "execution_count": null,
      "outputs": []
    },
    {
      "cell_type": "code",
      "source": [
        "print(classification_report(y_test, y_pred))"
      ],
      "metadata": {
        "id": "c5XAGTH-vJiI"
      },
      "execution_count": null,
      "outputs": []
    },
    {
      "cell_type": "markdown",
      "source": [],
      "metadata": {
        "id": "Z-tvxq2SvKSF"
      }
    }
  ]
}